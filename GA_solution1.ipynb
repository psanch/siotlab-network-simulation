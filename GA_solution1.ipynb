{
 "cells": [
  {
   "cell_type": "code",
   "execution_count": 1,
   "metadata": {},
   "outputs": [],
   "source": [
    "import time, array, random, copy, math\n",
    "import numpy as np\n",
    "import pandas as pd"
   ]
  },
  {
   "cell_type": "code",
   "execution_count": 2,
   "metadata": {},
   "outputs": [],
   "source": [
    "import matplotlib.pyplot as plt\n",
    "%matplotlib inline\n",
    "%config InlineBackend.figure_format = 'retina'\n",
    "plt.rc('text', usetex=True)\n",
    "plt.rc('font', family='serif')\n",
    "plt.rcParams['text.latex.preamble'] ='\\\\usepackage{libertine}\\n\\\\usepackage[utf8]{inputenc}'\n",
    "\n",
    "import seaborn\n",
    "seaborn.set(style='whitegrid')\n",
    "seaborn.set_context('notebook')"
   ]
  },
  {
   "cell_type": "code",
   "execution_count": 3,
   "metadata": {},
   "outputs": [],
   "source": [
    "from deap import algorithms, base, benchmarks, tools, creator"
   ]
  },
  {
   "cell_type": "code",
   "execution_count": 4,
   "metadata": {},
   "outputs": [],
   "source": [
    "from p3_main import *"
   ]
  },
  {
   "cell_type": "code",
   "execution_count": 8,
   "metadata": {},
   "outputs": [
    {
     "name": "stdout",
     "output_type": "stream",
     "text": [
      "[[11027996.53332779 10298614.50853133 11369791.44067577]\n",
      " [12737642.68855594  9485587.56744323 10589512.55809971]\n",
      " [11461598.18903311 10598795.82805763 10483031.97297249]\n",
      " [10356598.74115969 11474511.06007068 10792707.55448681]\n",
      " [11211843.62107359 10890932.68801701 10447483.49363062]]\n"
     ]
    }
   ],
   "source": [
    "M = 5 \n",
    "N = 3\n",
    "Bounds.x_max = 100\t# Determine the size of the area in which Nodes will exist.\n",
    "Bounds.x_min = -100\n",
    "Bounds.y_max = 100\n",
    "Bounds.y_min = -100\n",
    "\n",
    "Window.number_of_aps = M\t# Currently must <= 7 (for visuals) due to color implementation.\n",
    "Window.number_of_iots = N\n",
    "\n",
    "# objects.py\n",
    "AP.max_capacity = 1000\t# Determine the capacity for APs.\n",
    "\n",
    "IOT.min_demand = 0\t\t# Determine the demand range for IOTs.\n",
    "IOT.max_demand = 100\n",
    "\n",
    "\n",
    "random.seed(100)\n",
    "w = Window()\n",
    "wsn = WSN.getInstance()\n",
    "iot_list = w.iots\n",
    "ap_list = w.aps\n",
    "wsn.calc_PR(ap_list,iot_list)\n",
    "wsn.calc_SNR()\n",
    "wsn.calc_rate()\n",
    "print(wsn.get_rates())"
   ]
  },
  {
   "cell_type": "code",
   "execution_count": 9,
   "metadata": {},
   "outputs": [],
   "source": [
    "creator.create(\"FitnessMulti\", base.Fitness, weights=(1.0,-1.0))\n",
    "creator.create(\"Individual\", np.ndarray, fitness=creator.FitnessMulti)"
   ]
  },
  {
   "cell_type": "code",
   "execution_count": 11,
   "metadata": {},
   "outputs": [],
   "source": [
    "toolbox = base.Toolbox()\n",
    "    \n",
    "toolbox.register(\"attr\", create_c_mat, M, N)\n",
    "toolbox.register(\"individual\", tools.initRepeat, creator.Individual, toolbox.attr, n=1)\n",
    "toolbox.register(\"population\", tools.initRepeat, list, toolbox.individual)\n",
    "\n",
    "toolbox.register(\"evaluate\", evaluate_rate_nap)\n",
    "toolbox.register(\"mate\", cxTwoPointCopy)\n",
    "toolbox.register(\"mutate\", mutFlipAssociation, indpb=0.05)\n",
    "toolbox.register(\"select\", tools.selTournament, tournsize=3)\n",
    "toolbox.decorate(\"evaluate\", tools.DeltaPenalty(feasible, 1.0))"
   ]
  }
 ],
 "metadata": {
  "kernelspec": {
   "display_name": "Python 3",
   "language": "python",
   "name": "python3"
  },
  "language_info": {
   "codemirror_mode": {
    "name": "ipython",
    "version": 3
   },
   "file_extension": ".py",
   "mimetype": "text/x-python",
   "name": "python",
   "nbconvert_exporter": "python",
   "pygments_lexer": "ipython3",
   "version": "3.7.6"
  }
 },
 "nbformat": 4,
 "nbformat_minor": 4
}
